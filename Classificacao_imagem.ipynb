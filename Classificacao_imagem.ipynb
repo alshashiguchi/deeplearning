{
  "nbformat": 4,
  "nbformat_minor": 0,
  "metadata": {
    "colab": {
      "name": "Classificacao_imagem.ipynb",
      "version": "0.3.2",
      "provenance": [],
      "collapsed_sections": [],
      "include_colab_link": true
    },
    "kernelspec": {
      "name": "python3",
      "display_name": "Python 3"
    }
  },
  "cells": [
    {
      "cell_type": "markdown",
      "metadata": {
        "id": "view-in-github",
        "colab_type": "text"
      },
      "source": [
        "<a href=\"https://colab.research.google.com/github/alshashiguchi/deeplearning/blob/master/Classificacao_imagem.ipynb\" target=\"_parent\"><img src=\"https://colab.research.google.com/assets/colab-badge.svg\" alt=\"Open In Colab\"/></a>"
      ]
    },
    {
      "metadata": {
        "id": "C3UOiWuQI7LN",
        "colab_type": "text"
      },
      "cell_type": "markdown",
      "source": [
        "Imports"
      ]
    },
    {
      "metadata": {
        "id": "FmhDy6B5Ip3p",
        "colab_type": "code",
        "colab": {}
      },
      "cell_type": "code",
      "source": [
        "import tensorflow\n",
        "from tensorflow import keras\n",
        "import matplotlib.pyplot as plt\n",
        "import numpy as np\n",
        "from tensorflow.keras.models import load_model"
      ],
      "execution_count": 0,
      "outputs": []
    },
    {
      "metadata": {
        "id": "eEpL4kfYJF6f",
        "colab_type": "text"
      },
      "cell_type": "markdown",
      "source": [
        "Carregando dataset"
      ]
    },
    {
      "metadata": {
        "id": "XI4BzGenIumN",
        "colab_type": "code",
        "colab": {}
      },
      "cell_type": "code",
      "source": [
        "dataset = keras.datasets.fashion_mnist\n",
        "((imagens_treino, identificacoes_treino),(imagens_teste, identificacoes_teste)) = dataset.load_data()"
      ],
      "execution_count": 0,
      "outputs": []
    },
    {
      "metadata": {
        "id": "PrmV5ljxJJUt",
        "colab_type": "text"
      },
      "cell_type": "markdown",
      "source": [
        "Exploração dos dados"
      ]
    },
    {
      "metadata": {
        "id": "aXR3RdsuI0Yk",
        "colab_type": "code",
        "outputId": "d49f5e0a-d90f-4c23-abca-8325d07a6888",
        "colab": {
          "base_uri": "https://localhost:8080/",
          "height": 34
        }
      },
      "cell_type": "code",
      "source": [
        "len(imagens_treino)\n",
        "imagens_treino.shape\n",
        "imagens_teste.shape\n",
        "len(identificacoes_treino)\n",
        "len(identificacoes_teste)\n",
        "identificacoes_treino.min()\n",
        "identificacoes_treino.max()"
      ],
      "execution_count": 3,
      "outputs": [
        {
          "output_type": "execute_result",
          "data": {
            "text/plain": [
              "9"
            ]
          },
          "metadata": {
            "tags": []
          },
          "execution_count": 3
        }
      ]
    },
    {
      "metadata": {
        "id": "D4AbvUuYJMzH",
        "colab_type": "text"
      },
      "cell_type": "markdown",
      "source": [
        "Exibir os dados"
      ]
    },
    {
      "metadata": {
        "id": "8ultBssDI2YR",
        "colab_type": "code",
        "colab": {}
      },
      "cell_type": "code",
      "source": [
        "total_de_classificacoes = 10\n",
        "nomes_de_classificacoes = ['Camiseta','Calça','Pullover',\n",
        "                           'Vestido','Casaco','Sandália',\n",
        "                           'Camiseta','Tênis','Bolsa','Bota']\n",
        "\n",
        "plt.imshow(imagens_treino[0])\n",
        "plt.colorbar()"
      ],
      "execution_count": 0,
      "outputs": []
    },
    {
      "metadata": {
        "id": "42JHb_xjLlic",
        "colab_type": "text"
      },
      "cell_type": "markdown",
      "source": [
        "Normalizando as imagens"
      ]
    },
    {
      "metadata": {
        "id": "0mcq8H6bMFTS",
        "colab_type": "code",
        "colab": {}
      },
      "cell_type": "code",
      "source": [
        "imagens_treino = imagens_treino / float(255)"
      ],
      "execution_count": 0,
      "outputs": []
    },
    {
      "metadata": {
        "id": "mIbdOL4VMQ5G",
        "colab_type": "text"
      },
      "cell_type": "markdown",
      "source": [
        "Criando o modelo"
      ]
    },
    {
      "metadata": {
        "id": "Ta_DEZmuR5ws",
        "colab_type": "code",
        "colab": {}
      },
      "cell_type": "code",
      "source": [
        "modelo = keras.Sequential([\n",
        "    keras.layers.Flatten(input_shape = (28, 28)),\n",
        "    keras.layers.Dense(256, activation=tensorflow.nn.relu),\n",
        "    keras.layers.Dropout(0.2),    \n",
        "    keras.layers.Dense(10, activation=tensorflow.nn.softmax)\n",
        "])"
      ],
      "execution_count": 0,
      "outputs": []
    },
    {
      "metadata": {
        "id": "Dwsu6I99R8kj",
        "colab_type": "text"
      },
      "cell_type": "markdown",
      "source": [
        "Compilando o modelo"
      ]
    },
    {
      "metadata": {
        "id": "8UiMa9rvSC-H",
        "colab_type": "code",
        "colab": {}
      },
      "cell_type": "code",
      "source": [
        "modelo.compile(optimizer='adam', \n",
        "               loss='sparse_categorical_crossentropy', \n",
        "               metrics=['accuracy'])"
      ],
      "execution_count": 0,
      "outputs": []
    },
    {
      "metadata": {
        "id": "ZaVO7eHGSQfW",
        "colab_type": "text"
      },
      "cell_type": "markdown",
      "source": [
        "Treinando e normalizando o modelo"
      ]
    },
    {
      "metadata": {
        "id": "yG9iSie2KfFY",
        "colab_type": "code",
        "colab": {}
      },
      "cell_type": "code",
      "source": [
        "historico = modelo.fit(imagens_treino, \n",
        "                       identificacoes_treino, \n",
        "                       epochs=5, \n",
        "                       validation_split=0.2)"
      ],
      "execution_count": 0,
      "outputs": []
    },
    {
      "metadata": {
        "id": "ZGSNnop4Lq7G",
        "colab_type": "text"
      },
      "cell_type": "markdown",
      "source": [
        "Salvando e carregando o modelo treinado"
      ]
    },
    {
      "metadata": {
        "id": "xw4gUsMSKhBH",
        "colab_type": "code",
        "colab": {}
      },
      "cell_type": "code",
      "source": [
        "modelo.save('modelo.h5')\n",
        "modelo_salvo = load_model('modelo.h5')"
      ],
      "execution_count": 0,
      "outputs": []
    },
    {
      "metadata": {
        "id": "uu7_80mKLvF0",
        "colab_type": "text"
      },
      "cell_type": "markdown",
      "source": [
        "Visualizando as acurácias de treino e validação por época"
      ]
    },
    {
      "metadata": {
        "id": "gz6DmPMPN08G",
        "colab_type": "code",
        "colab": {}
      },
      "cell_type": "code",
      "source": [
        "plt.plot(historico.history['acc'])\n",
        "plt.plot(historico.history['val_acc'])\n",
        "plt.title('Acurácia por épocas')\n",
        "plt.xlabel('épocas')\n",
        "plt.ylabel('acurácia')\n",
        "plt.legend(['treino', 'validação'])"
      ],
      "execution_count": 0,
      "outputs": []
    },
    {
      "metadata": {
        "id": "imRdoyV4NAab",
        "colab_type": "text"
      },
      "cell_type": "markdown",
      "source": [
        "Visualizando as perdas de treino e validação por época"
      ]
    },
    {
      "metadata": {
        "id": "bykDX_qrPZU2",
        "colab_type": "code",
        "colab": {}
      },
      "cell_type": "code",
      "source": [
        "plt.plot(historico.history['loss'])\n",
        "plt.plot(historico.history['val_loss'])\n",
        "plt.title('Perca por épocas')\n",
        "plt.xlabel('épocas')\n",
        "plt.ylabel('perda')\n",
        "plt.legend(['treino', 'validação'])"
      ],
      "execution_count": 0,
      "outputs": []
    },
    {
      "metadata": {
        "id": "KHRGkhgcNJaB",
        "colab_type": "text"
      },
      "cell_type": "markdown",
      "source": [
        "Testando o modelo e o modelo salvo"
      ]
    },
    {
      "metadata": {
        "id": "p1O1_C-pHWOE",
        "colab_type": "code",
        "colab": {}
      },
      "cell_type": "code",
      "source": [
        "testes = modelo.predict(imagens_teste)\n",
        "print('resultado teste: ', np.argmax(testes[1]))\n",
        "print('número da imagem de teste: ', identificacoes_teste[1])\n",
        "\n",
        "teste_modelo_salvo = modelo_salvo.predict(imagens_teste)\n",
        "print('resultado teste modelo salvo: ', np.argmax(testes[1]))\n",
        "print('número da imagem de teste modelo salvo: ', identificacoes_teste[1])"
      ],
      "execution_count": 0,
      "outputs": []
    },
    {
      "metadata": {
        "id": "vY9gYN7YTZ87",
        "colab_type": "text"
      },
      "cell_type": "markdown",
      "source": [
        "Teste com o resultado"
      ]
    },
    {
      "metadata": {
        "id": "mAiIDrFHTeLr",
        "colab_type": "code",
        "colab": {}
      },
      "cell_type": "code",
      "source": [
        "print(nomes_de_classificacoes[np.argmax(testes[6])])\n",
        "\n",
        "plt.imshow(imagens_teste[np.argmax(testes[6])])\n",
        "plt.colorbar()"
      ],
      "execution_count": 0,
      "outputs": []
    },
    {
      "metadata": {
        "id": "IsVqt_fzNOC_",
        "colab_type": "text"
      },
      "cell_type": "markdown",
      "source": [
        "Avaliando o modelo"
      ]
    },
    {
      "metadata": {
        "id": "8Ey7mdrWI_cG",
        "colab_type": "code",
        "colab": {}
      },
      "cell_type": "code",
      "source": [
        "perda_teste, acuracia_teste = modelo.evaluate(imagens_teste, \n",
        "                                              identificacoes_teste)\n",
        "print('Perda do teste: ', perda_teste)\n",
        "print('Acurácia do teste: ', acuracia_teste)"
      ],
      "execution_count": 0,
      "outputs": []
    }
  ]
}