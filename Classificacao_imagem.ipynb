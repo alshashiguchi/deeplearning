{
  "nbformat": 4,
  "nbformat_minor": 0,
  "metadata": {
    "colab": {
      "name": "Classificacao_imagem.ipynb",
      "version": "0.3.2",
      "provenance": [],
      "collapsed_sections": [],
      "include_colab_link": true
    },
    "kernelspec": {
      "name": "python3",
      "display_name": "Python 3"
    }
  },
  "cells": [
    {
      "cell_type": "markdown",
      "metadata": {
        "id": "view-in-github",
        "colab_type": "text"
      },
      "source": [
        "<a href=\"https://colab.research.google.com/github/alshashiguchi/deeplearning/blob/master/Classificacao_imagem.ipynb\" target=\"_parent\"><img src=\"https://colab.research.google.com/assets/colab-badge.svg\" alt=\"Open In Colab\"/></a>"
      ]
    },
    {
      "metadata": {
        "id": "C3UOiWuQI7LN",
        "colab_type": "text"
      },
      "cell_type": "markdown",
      "source": [
        "Imports"
      ]
    },
    {
      "metadata": {
        "id": "FmhDy6B5Ip3p",
        "colab_type": "code",
        "colab": {}
      },
      "cell_type": "code",
      "source": [
        "import tensorflow\n",
        "from tensorflow import keras\n",
        "import matplotlib.pyplot as plt\n",
        "import numpy as np"
      ],
      "execution_count": 0,
      "outputs": []
    },
    {
      "metadata": {
        "id": "eEpL4kfYJF6f",
        "colab_type": "text"
      },
      "cell_type": "markdown",
      "source": [
        "Carregando dataset"
      ]
    },
    {
      "metadata": {
        "id": "XI4BzGenIumN",
        "colab_type": "code",
        "colab": {}
      },
      "cell_type": "code",
      "source": [
        "dataset = keras.datasets.fashion_mnist\n",
        "((imagens_treino, identificacoes_treino),(imagens_teste, identificacoes_teste)) = dataset.load_data()"
      ],
      "execution_count": 0,
      "outputs": []
    },
    {
      "metadata": {
        "id": "PrmV5ljxJJUt",
        "colab_type": "text"
      },
      "cell_type": "markdown",
      "source": [
        "Exploração dos dados"
      ]
    },
    {
      "metadata": {
        "id": "aXR3RdsuI0Yk",
        "colab_type": "code",
        "colab": {
          "base_uri": "https://localhost:8080/",
          "height": 34
        },
        "outputId": "ee49a31b-a0cf-46ea-9655-8e2bb02f3b9f"
      },
      "cell_type": "code",
      "source": [
        "len(imagens_treino)\n",
        "imagens_treino.shape\n",
        "imagens_teste.shape\n",
        "len(identificacoes_treino)\n",
        "len(identificacoes_teste)\n",
        "identificacoes_treino.min()\n",
        "identificacoes_treino.max()"
      ],
      "execution_count": 3,
      "outputs": [
        {
          "output_type": "execute_result",
          "data": {
            "text/plain": [
              "9"
            ]
          },
          "metadata": {
            "tags": []
          },
          "execution_count": 3
        }
      ]
    },
    {
      "metadata": {
        "id": "D4AbvUuYJMzH",
        "colab_type": "text"
      },
      "cell_type": "markdown",
      "source": [
        "Exibir os dados"
      ]
    },
    {
      "metadata": {
        "id": "8ultBssDI2YR",
        "colab_type": "code",
        "colab": {
          "base_uri": "https://localhost:8080/",
          "height": 364
        },
        "outputId": "94f3335d-8e50-4ee9-d6c9-14cc7ed79387"
      },
      "cell_type": "code",
      "source": [
        "total_de_classificacoes = 10\n",
        "nomes_de_classificacoes = ['Camiseta','Calça','Pullover',\n",
        "                           'Vestido','Casaco','Sandália',\n",
        "                           'Camiseta','Tênis','Bolsa','Bota']\n",
        "\n",
        "'''\n",
        "plt.imshow(imagens_treino[0])\n",
        "plt.title(identificacoes_treino[0])\n",
        "\n",
        "for imagem in range(10):\n",
        "  plt.subplot(2, 5, imagem + 1)\n",
        "  plt.imshow(imagens_treino[imagem])\n",
        "  plt.title(nomes_de_classificacoes[identificacoes_treino[imagem]])\n",
        "'''  \n",
        "plt.imshow(imagens_treino[0])\n",
        "plt.colorbar()"
      ],
      "execution_count": 4,
      "outputs": [
        {
          "output_type": "execute_result",
          "data": {
            "text/plain": [
              "<matplotlib.colorbar.Colorbar at 0x7fe3311eb780>"
            ]
          },
          "metadata": {
            "tags": []
          },
          "execution_count": 4
        },
        {
          "output_type": "display_data",
          "data": {
            "image/png": "[encoded data removed]",
            "text/plain": [
              "<matplotlib.figure.Figure at 0x7fe3312b9ba8>"
            ]
          },
          "metadata": {
            "tags": []
          }
        }
      ]
    },
    {
      "metadata": {
        "id": "yG9iSie2KfFY",
        "colab_type": "code",
        "colab": {
          "base_uri": "https://localhost:8080/",
          "height": 204
        },
        "outputId": "8f04f43b-5f27-4042-fff1-8dbb092ac37c"
      },
      "cell_type": "code",
      "source": [
        "#Normalização\n",
        "imagens_treino = imagens_treino / float(255)\n",
        "\n",
        "modelo = keras.Sequential([\n",
        "    keras.layers.Flatten(input_shape = (28, 28)),\n",
        "    keras.layers.Dense(256, activation=tensorflow.nn.relu),\n",
        "    #keras.layers.Dense(128, activation=tensorflow.nn.relu),\n",
        "    #keras.layers.Dense(64, activation=tensorflow.nn.relu),\n",
        "    keras.layers.Dense(10, activation=tensorflow.nn.softmax)\n",
        "])\n",
        "\n",
        "modelo.compile(optimizer='adam', \n",
        "               loss='sparse_categorical_crossentropy', \n",
        "               metrics=['accuracy'])\n",
        "\n",
        "historico = modelo.fit(imagens_treino, \n",
        "                       identificacoes_treino, \n",
        "                       epochs=5, \n",
        "                       validation_split=0.2)"
      ],
      "execution_count": 8,
      "outputs": [
        {
          "output_type": "stream",
          "text": [
            "Train on 48000 samples, validate on 12000 samples\n",
            "Epoch 1/5\n",
            "48000/48000 [==============================] - 9s 189us/step - loss: 1.0592 - acc: 0.6676 - val_loss: 0.6825 - val_acc: 0.7513\n",
            "Epoch 2/5\n",
            "48000/48000 [==============================] - 8s 177us/step - loss: 0.6288 - acc: 0.7722 - val_loss: 0.5812 - val_acc: 0.7880\n",
            "Epoch 3/5\n",
            "48000/48000 [==============================] - 8s 177us/step - loss: 0.5545 - acc: 0.8000 - val_loss: 0.5395 - val_acc: 0.8093\n",
            "Epoch 4/5\n",
            "48000/48000 [==============================] - 8s 172us/step - loss: 0.5133 - acc: 0.8178 - val_loss: 0.4995 - val_acc: 0.8228\n",
            "Epoch 5/5\n",
            "48000/48000 [==============================] - 9s 180us/step - loss: 0.4855 - acc: 0.8291 - val_loss: 0.4812 - val_acc: 0.8256\n"
          ],
          "name": "stdout"
        }
      ]
    },
    {
      "metadata": {
        "id": "gz6DmPMPN08G",
        "colab_type": "code",
        "colab": {
          "base_uri": "https://localhost:8080/",
          "height": 393
        },
        "outputId": "c986063d-b4ee-405d-e537-7099b416d6c5"
      },
      "cell_type": "code",
      "source": [
        "plt.plot(historico.history['acc'])\n",
        "plt.plot(historico.history['val_acc'])\n",
        "plt.title('Acurácia por épocas')\n",
        "plt.xlabel('épocas')\n",
        "plt.ylabel('acurácia')\n",
        "plt.legend(['treino', 'avaliação'])"
      ],
      "execution_count": 13,
      "outputs": [
        {
          "output_type": "execute_result",
          "data": {
            "text/plain": [
              "<matplotlib.legend.Legend at 0x7fe32a835c50>"
            ]
          },
          "metadata": {
            "tags": []
          },
          "execution_count": 13
        },
        {
          "output_type": "display_data",
          "data": {
            "image/png": "[encoded data removed]",
            "text/plain": [
              "<matplotlib.figure.Figure at 0x7fe32a87a6d8>"
            ]
          },
          "metadata": {
            "tags": []
          }
        }
      ]
    },
    {
      "metadata": {
        "id": "p1O1_C-pHWOE",
        "colab_type": "code",
        "colab": {
          "base_uri": "https://localhost:8080/",
          "height": 51
        },
        "outputId": "dd90fd33-f1de-439e-9f79-5afc33674a91"
      },
      "cell_type": "code",
      "source": [
        "testes = modelo.predict(imagens_teste)\n",
        "print('resultado teste: ', np.argmax(testes[1]))\n",
        "print('número da imagem de teste: ', identificacoes_teste[1])"
      ],
      "execution_count": 6,
      "outputs": [
        {
          "output_type": "stream",
          "text": [
            "resultado teste:  2\n",
            "número da imagem de teste:  2\n"
          ],
          "name": "stdout"
        }
      ]
    },
    {
      "metadata": {
        "id": "8Ey7mdrWI_cG",
        "colab_type": "code",
        "colab": {
          "base_uri": "https://localhost:8080/",
          "height": 68
        },
        "outputId": "9a960ecd-f44a-4285-a3a6-37c9f4664c90"
      },
      "cell_type": "code",
      "source": [
        "perda_teste, acuracia_teste = modelo.evaluate(imagens_teste, identificacoes_teste)\n",
        "print('Perda do teste: ', perda_teste)\n",
        "print('Acurácia do teste: ', acuracia_teste)"
      ],
      "execution_count": 7,
      "outputs": [
        {
          "output_type": "stream",
          "text": [
            "10000/10000 [==============================] - 0s 33us/step\n",
            "Perda do teste:  2.4660934553146348\n",
            "Acurácia do teste:  0.8451\n"
          ],
          "name": "stdout"
        }
      ]
    }
  ]
}